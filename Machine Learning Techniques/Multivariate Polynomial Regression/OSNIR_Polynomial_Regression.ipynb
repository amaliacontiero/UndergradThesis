{
 "cells": [
  {
   "attachments": {},
   "cell_type": "markdown",
   "metadata": {},
   "source": [
    "# Multivariate Polynomial Regression"
   ]
  },
  {
   "cell_type": "code",
   "execution_count": 1,
   "metadata": {},
   "outputs": [],
   "source": [
    "import numpy as np\n",
    "import pandas as pd\n",
    "from matplotlib import pyplot as plt\n",
    "from matplotlib.ticker import PercentFormatter\n",
    "from sklearn.linear_model import LinearRegression\n",
    "from sklearn.preprocessing import PolynomialFeatures"
   ]
  },
  {
   "attachments": {},
   "cell_type": "markdown",
   "metadata": {},
   "source": [
    "Import OSNIR Dataset and shuffle data"
   ]
  },
  {
   "cell_type": "code",
   "execution_count": 2,
   "metadata": {},
   "outputs": [],
   "source": [
    "# import OSNIR dataset\n",
    "df = pd.read_csv('../Data/OSNIR_Shuffled_Data.csv')"
   ]
  },
  {
   "attachments": {},
   "cell_type": "markdown",
   "metadata": {},
   "source": [
    "Divide data into\\\n",
    "1800 values for training (0,1800-1)\\\n",
    "600 values for validation (1800,2400-1)\\\n",
    "600 values for testing (2400,3000-1)\\"
   ]
  },
  {
   "cell_type": "code",
   "execution_count": 3,
   "metadata": {},
   "outputs": [],
   "source": [
    "data = np.array(df)\n",
    "# input x aka Ns, Pch, L, B, GB, Nch values\n",
    "x_train = data[0:1800-1, 1:7]\n",
    "x_valid = data[1800:2400-1, 1:7]\n",
    "x_test = data[2400:3000-1, 1:7]\n",
    "\n",
    "# output y aka OSNIR values\n",
    "y_train = data[0:1800-1, 0]\n",
    "y_valid = data[1800:2400-1, 0]\n",
    "y_test = data[2400:3000-1, 0]"
   ]
  },
  {
   "attachments": {},
   "cell_type": "markdown",
   "metadata": {},
   "source": [
    "#### Create the Polynomial Regression Model"
   ]
  },
  {
   "cell_type": "code",
   "execution_count": 4,
   "metadata": {},
   "outputs": [],
   "source": [
    "#MPR model\n",
    "model_PF = PolynomialFeatures(degree=2)\n",
    "x_train_PF = model_PF.fit_transform(x_train)\n",
    "\n",
    "#Fit Linear Model with Polynomial Features\n",
    "model = LinearRegression().fit(x_train_PF,y_train)\n"
   ]
  },
  {
   "cell_type": "code",
   "execution_count": 5,
   "metadata": {},
   "outputs": [],
   "source": [
    "OSNIR_num = data[:3000-1,0]\n",
    "Input_num = model_PF.fit_transform(data[:3000-1,1:7])\n"
   ]
  },
  {
   "cell_type": "code",
   "execution_count": 6,
   "metadata": {},
   "outputs": [],
   "source": [
    "OSNIR_est = (model.predict(Input_num))"
   ]
  },
  {
   "cell_type": "code",
   "execution_count": 7,
   "metadata": {},
   "outputs": [
    {
     "name": "stdout",
     "output_type": "stream",
     "text": [
      "[1.0, 33.0, 3.0, 100.0, 50.0, 0.0, 9.0, 1089.0, 99.0, 3300.0, 1650.0, 0.0, 297.0, 9.0, 300.0, 150.0, 0.0, 27.0, 10000.0, 5000.0, 0.0, 900.0, 2500.0, 0.0, 450.0, 0.0, 0.0, 81.0] => 8.381557 (expected 9.936834)\n",
      "[1.0, 6.0, -1.0, 50.0, 25.0, 0.0, 9.0, 36.0, -6.0, 300.0, 150.0, 0.0, 54.0, 1.0, -50.0, -25.0, -0.0, -9.0, 2500.0, 1250.0, 0.0, 450.0, 625.0, 0.0, 225.0, 0.0, 0.0, 81.0] => 23.875517 (expected 23.857060)\n",
      "[1.0, 12.0, -5.0, 50.0, 25.0, 0.0, 3.0, 144.0, -60.0, 600.0, 300.0, 0.0, 36.0, 25.0, -250.0, -125.0, -0.0, -15.0, 2500.0, 1250.0, 0.0, 150.0, 625.0, 0.0, 75.0, 0.0, 0.0, 9.0] => 22.847267 (expected 22.358241)\n",
      "[1.0, 16.0, 3.0, 10.0, 25.0, 12.5, 9.0, 256.0, 48.0, 160.0, 400.0, 200.0, 144.0, 9.0, 30.0, 75.0, 37.5, 27.0, 100.0, 250.0, 125.0, 90.0, 625.0, 312.5, 225.0, 156.25, 112.5, 81.0] => 17.961893 (expected 17.954984)\n",
      "[1.0, 10.0, -1.0, 100.0, 25.0, 0.0, 9.0, 100.0, -10.0, 1000.0, 250.0, 0.0, 90.0, 1.0, -100.0, -25.0, -0.0, -9.0, 10000.0, 2500.0, 0.0, 900.0, 625.0, 0.0, 225.0, 0.0, 0.0, 81.0] => 17.078602 (expected 16.183496)\n",
      "[1.0, 7.0, 2.0, 100.0, 25.0, 0.0, 9.0, 49.0, 14.0, 700.0, 175.0, 0.0, 63.0, 4.0, 200.0, 50.0, 0.0, 18.0, 10000.0, 2500.0, 0.0, 900.0, 625.0, 0.0, 225.0, 0.0, 0.0, 81.0] => 17.107880 (expected 16.091254)\n",
      "[1.0, 7.0, -2.0, 100.0, 25.0, 0.0, 3.0, 49.0, -14.0, 700.0, 175.0, 0.0, 21.0, 4.0, -200.0, -50.0, -0.0, -6.0, 10000.0, 2500.0, 0.0, 300.0, 625.0, 0.0, 75.0, 0.0, 0.0, 9.0] => 19.293645 (expected 17.885832)\n",
      "[1.0, 13.0, 3.0, 100.0, 25.0, 12.5, 9.0, 169.0, 39.0, 1300.0, 325.0, 162.5, 117.0, 9.0, 300.0, 75.0, 37.5, 27.0, 10000.0, 2500.0, 1250.0, 900.0, 625.0, 312.5, 225.0, 156.25, 112.5, 81.0] => 14.447676 (expected 13.479461)\n",
      "[1.0, 15.0, -6.0, 5.0, 25.0, 0.0, 9.0, 225.0, -90.0, 75.0, 375.0, 0.0, 135.0, 36.0, -30.0, -150.0, -0.0, -54.0, 25.0, 125.0, 0.0, 45.0, 625.0, 0.0, 225.0, 0.0, 0.0, 81.0] => 28.359119 (expected 29.028905)\n",
      "[1.0, 14.0, -1.0, 50.0, 25.0, 0.0, 9.0, 196.0, -14.0, 700.0, 350.0, 0.0, 126.0, 1.0, -50.0, -25.0, -0.0, -9.0, 2500.0, 1250.0, 0.0, 450.0, 625.0, 0.0, 225.0, 0.0, 0.0, 81.0] => 19.895176 (expected 19.840868)\n"
     ]
    }
   ],
   "source": [
    "for i in range(10):\n",
    "    print('%s => %f (expected %f)' % (Input_num[i].tolist(), OSNIR_est[i], OSNIR_num[i] ))"
   ]
  },
  {
   "cell_type": "code",
   "execution_count": 8,
   "metadata": {},
   "outputs": [],
   "source": [
    "Mism = np.zeros(3000-1)\n",
    "for i in range(3000-1):\n",
    "    Mism[i] = OSNIR_num[i] - OSNIR_est[i]"
   ]
  },
  {
   "cell_type": "code",
   "execution_count": 9,
   "metadata": {},
   "outputs": [],
   "source": [
    "pred_df = pd.DataFrame({\"Actual OSNIR (dB)\" : OSNIR_num.tolist(), \"Predicted OSNIR (dB)\" : OSNIR_est.tolist(), \"Difference (dB)\" : Mism.tolist()})\n",
    "pred_df.to_csv(\"OSNIR_Prediction_MPR.csv\",index=False)"
   ]
  },
  {
   "cell_type": "code",
   "execution_count": 10,
   "metadata": {},
   "outputs": [
    {
     "data": {
      "text/plain": [
       "(array([0.        , 0.        , 0.        , 0.        , 0.        ,\n",
       "        0.        , 0.        , 0.00166722, 0.00133378, 0.00733578,\n",
       "        0.01267089, 0.02200734, 0.02634211, 0.02967656, 0.04301434,\n",
       "        0.06702234, 0.08436145, 0.08102701, 0.07769256, 0.07002334,\n",
       "        0.08602868, 0.0786929 , 0.06502167, 0.06235412, 0.04701567,\n",
       "        0.04001334, 0.027009  , 0.01667222, 0.01267089, 0.00433478,\n",
       "        0.00533511, 0.00433478, 0.00566856, 0.00233411, 0.00233411,\n",
       "        0.        , 0.00166722, 0.00133378, 0.00166722, 0.00133378]),\n",
       " array([-4. , -3.8, -3.6, -3.4, -3.2, -3. , -2.8, -2.6, -2.4, -2.2, -2. ,\n",
       "        -1.8, -1.6, -1.4, -1.2, -1. , -0.8, -0.6, -0.4, -0.2,  0. ,  0.2,\n",
       "         0.4,  0.6,  0.8,  1. ,  1.2,  1.4,  1.6,  1.8,  2. ,  2.2,  2.4,\n",
       "         2.6,  2.8,  3. ,  3.2,  3.4,  3.6,  3.8,  4. ]),\n",
       " <BarContainer object of 40 artists>)"
      ]
     },
     "execution_count": 10,
     "metadata": {},
     "output_type": "execute_result"
    },
    {
     "data": {
      "image/png": "[encoded data removed]",
      "text/plain": [
       "<Figure size 640x480 with 1 Axes>"
      ]
     },
     "metadata": {},
     "output_type": "display_data"
    }
   ],
   "source": [
    "plt.title('Polynomial Regression OSNIR Mismatch')\n",
    "plt.xlabel('Mismatch (dB)')\n",
    "plt.ylabel('Percentage (%)')\n",
    "plt.ylim(0, 0.3)\n",
    "plt.gca().yaxis.set_major_formatter(PercentFormatter(1))\n",
    "plt.hist(Mism,\n",
    "         range=(-4,4),\n",
    "         rwidth=0.9,\n",
    "         bins=40,\n",
    "         weights=np.ones(len(Mism))/len(Mism)\n",
    "         )"
   ]
  }
 ],
 "metadata": {
  "kernelspec": {
   "display_name": ".venv",
   "language": "python",
   "name": "python3"
  },
  "language_info": {
   "codemirror_mode": {
    "name": "ipython",
    "version": 3
   },
   "file_extension": ".py",
   "mimetype": "text/x-python",
   "name": "python",
   "nbconvert_exporter": "python",
   "pygments_lexer": "ipython3",
   "version": "3.11.2"
  },
  "orig_nbformat": 4,
  "vscode": {
   "interpreter": {
    "hash": "cd7dbc09f62c6934dc245b76251cec5fd949cd1cb8bcb775af9208cac5a10da4"
   }
  }
 },
 "nbformat": 4,
 "nbformat_minor": 2
}
