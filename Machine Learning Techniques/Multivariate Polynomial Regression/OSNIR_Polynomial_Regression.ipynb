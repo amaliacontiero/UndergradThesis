{
 "cells": [
  {
   "attachments": {},
   "cell_type": "markdown",
   "metadata": {},
   "source": [
    "# Multivariate Polynomial Regression"
   ]
  },
  {
   "cell_type": "code",
   "execution_count": 1,
   "metadata": {},
   "outputs": [],
   "source": [
    "import numpy as np\n",
    "import pandas as pd\n",
    "from matplotlib import pyplot as plt\n",
    "from matplotlib.ticker import PercentFormatter\n",
    "from sklearn.linear_model import LinearRegression\n",
    "from sklearn.preprocessing import PolynomialFeatures"
   ]
  },
  {
   "attachments": {},
   "cell_type": "markdown",
   "metadata": {},
   "source": [
    "Import OSNIR Dataset and shuffle data"
   ]
  },
  {
   "cell_type": "code",
   "execution_count": 2,
   "metadata": {},
   "outputs": [],
   "source": [
    "# import OSNIR dataset\n",
    "df = pd.read_csv('../Data/OSNIR_values_extendedv3_new datasetbcsv.csv')\n",
    "# shuffling rows of OSNIR dataframe and reset indexes\n",
    "df = df.sample(frac=1)\n",
    "df.reset_index(inplace=True, drop=True)"
   ]
  },
  {
   "attachments": {},
   "cell_type": "markdown",
   "metadata": {},
   "source": [
    "Divide data into\\\n",
    "1800 values for training (0,1800-1)\\\n",
    "600 values for validation (1800,2400-1)\\\n",
    "600 values for testing (2400,3000-1)\\"
   ]
  },
  {
   "cell_type": "code",
   "execution_count": 3,
   "metadata": {},
   "outputs": [],
   "source": [
    "data = np.array(df)\n",
    "# input x aka Ns, Pch, L, B, GB, Nch values\n",
    "x_train = data[0:1800-1, 1:7]\n",
    "x_valid = data[1800:2400-1, 1:7]\n",
    "x_test = data[2400:3000-1, 1:7]\n",
    "\n",
    "# output y aka OSNIR values\n",
    "y_train = data[0:1800-1, 0]\n",
    "y_valid = data[1800:2400-1, 0]\n",
    "y_test = data[2400:3000-1, 0]"
   ]
  },
  {
   "attachments": {},
   "cell_type": "markdown",
   "metadata": {},
   "source": [
    "#### Create the Polynomial Regression Model"
   ]
  },
  {
   "cell_type": "code",
   "execution_count": 4,
   "metadata": {},
   "outputs": [],
   "source": [
    "#MPR model\n",
    "model_PF = PolynomialFeatures(degree=2)\n",
    "x_train_PF = model_PF.fit_transform(x_train)\n",
    "\n",
    "#Fit Linear Model with Polynomial Features\n",
    "model = LinearRegression().fit(x_train_PF,y_train)\n"
   ]
  },
  {
   "cell_type": "code",
   "execution_count": 5,
   "metadata": {},
   "outputs": [],
   "source": [
    "OSNIR_num = data[:3000-1,0]\n",
    "Input_num = model_PF.fit_transform(data[:3000-1,1:7])\n"
   ]
  },
  {
   "cell_type": "code",
   "execution_count": 6,
   "metadata": {},
   "outputs": [],
   "source": [
    "OSNIR_est = (model.predict(Input_num))"
   ]
  },
  {
   "cell_type": "code",
   "execution_count": 7,
   "metadata": {},
   "outputs": [
    {
     "name": "stdout",
     "output_type": "stream",
     "text": [
      "[1.0, 50.0, 3.0, 100.0, 25.0, 12.5, 9.0, 2500.0, 150.0, 5000.0, 1250.0, 625.0, 450.0, 9.0, 300.0, 75.0, 37.5, 27.0, 10000.0, 2500.0, 1250.0, 900.0, 625.0, 312.5, 225.0, 156.25, 112.5, 81.0] => 7.014639 (expected 6.136563)\n",
      "[1.0, 36.0, -3.0, 50.0, 12.5, 0.0, 9.0, 1296.0, -108.0, 1800.0, 450.0, 0.0, 324.0, 9.0, -150.0, -37.5, -0.0, -27.0, 2500.0, 625.0, 0.0, 450.0, 156.25, 0.0, 112.5, 0.0, 0.0, 81.0] => 14.441690 (expected 14.930779)\n",
      "[1.0, 29.0, 0.0, 100.0, 25.0, 0.0, 9.0, 841.0, 0.0, 2900.0, 725.0, 0.0, 261.0, 0.0, 0.0, 0.0, 0.0, 0.0, 10000.0, 2500.0, 0.0, 900.0, 625.0, 0.0, 225.0, 0.0, 0.0, 81.0] => 10.180882 (expected 11.174112)\n",
      "[1.0, 16.0, 2.0, 100.0, 25.0, 0.0, 3.0, 256.0, 32.0, 1600.0, 400.0, 0.0, 48.0, 4.0, 200.0, 50.0, 0.0, 6.0, 10000.0, 2500.0, 0.0, 300.0, 625.0, 0.0, 75.0, 0.0, 0.0, 9.0] => 13.751774 (expected 13.604782)\n",
      "[1.0, 5.0, -1.0, 100.0, 25.0, 0.0, 9.0, 25.0, -5.0, 500.0, 125.0, 0.0, 45.0, 1.0, -100.0, -25.0, -0.0, -9.0, 10000.0, 2500.0, 0.0, 900.0, 625.0, 0.0, 225.0, 0.0, 0.0, 81.0] => 19.904840 (expected 19.563624)\n",
      "[1.0, 33.0, -2.0, 100.0, 12.5, 0.0, 9.0, 1089.0, -66.0, 3300.0, 412.5, 0.0, 297.0, 4.0, -200.0, -25.0, -0.0, -18.0, 10000.0, 1250.0, 0.0, 900.0, 156.25, 0.0, 112.5, 0.0, 0.0, 81.0] => 9.728228 (expected 10.841449)\n",
      "[1.0, 16.0, -4.0, 100.0, 12.5, 0.0, 9.0, 256.0, -64.0, 1600.0, 200.0, 0.0, 144.0, 16.0, -400.0, -50.0, -0.0, -36.0, 10000.0, 1250.0, 0.0, 900.0, 156.25, 0.0, 112.5, 0.0, 0.0, 81.0] => 14.136003 (expected 14.616528)\n",
      "[1.0, 12.0, -6.0, 10.0, 25.0, 0.0, 9.0, 144.0, -72.0, 120.0, 300.0, 0.0, 108.0, 36.0, -60.0, -150.0, -0.0, -54.0, 100.0, 250.0, 0.0, 90.0, 625.0, 0.0, 225.0, 0.0, 0.0, 81.0] => 28.602407 (expected 28.341298)\n",
      "[1.0, 41.0, 3.0, 50.0, 25.0, 12.5, 9.0, 1681.0, 123.0, 2050.0, 1025.0, 512.5, 369.0, 9.0, 150.0, 75.0, 37.5, 27.0, 2500.0, 1250.0, 625.0, 450.0, 625.0, 312.5, 225.0, 156.25, 112.5, 81.0] => 8.986036 (expected 8.106488)\n",
      "[1.0, 37.0, -3.0, 100.0, 25.0, 0.0, 9.0, 1369.0, -111.0, 3700.0, 925.0, 0.0, 333.0, 9.0, -300.0, -75.0, -0.0, -27.0, 10000.0, 2500.0, 0.0, 900.0, 625.0, 0.0, 225.0, 0.0, 0.0, 81.0] => 9.862829 (expected 9.800254)\n"
     ]
    }
   ],
   "source": [
    "for i in range(10):\n",
    "    print('%s => %f (expected %f)' % (Input_num[i].tolist(), OSNIR_est[i], OSNIR_num[i] ))"
   ]
  },
  {
   "cell_type": "code",
   "execution_count": 8,
   "metadata": {},
   "outputs": [],
   "source": [
    "Mism = np.zeros(3000-1)\n",
    "for i in range(3000-1):\n",
    "    Mism[i] = OSNIR_num[i] - OSNIR_est[i]"
   ]
  },
  {
   "cell_type": "code",
   "execution_count": 9,
   "metadata": {},
   "outputs": [],
   "source": [
    "pred_df = pd.DataFrame({\"Actual OSNIR (dB)\" : OSNIR_num.tolist(), \"Predicted OSNIR (dB)\" : OSNIR_est.tolist(), \"Difference (dB)\" : Mism.tolist()})\n",
    "pred_df.to_csv(\"OSNIR_Prediction_MPR.csv\",index=False)"
   ]
  },
  {
   "cell_type": "code",
   "execution_count": 10,
   "metadata": {},
   "outputs": [
    {
     "data": {
      "text/plain": [
       "(array([0.        , 0.        , 0.        , 0.        , 0.        ,\n",
       "        0.00033344, 0.00033344, 0.00033344, 0.00266756, 0.00700233,\n",
       "        0.01400467, 0.02300767, 0.02767589, 0.03767923, 0.04834945,\n",
       "        0.0636879 , 0.07402467, 0.07369123, 0.07369123, 0.07769256,\n",
       "        0.07769256, 0.07969323, 0.07535845, 0.05801934, 0.04801601,\n",
       "        0.04234745, 0.02800934, 0.01167056, 0.01367122, 0.00533511,\n",
       "        0.00333444, 0.00633545, 0.00466822, 0.00366789, 0.00266756,\n",
       "        0.00100033, 0.00166722, 0.00133378, 0.00033344, 0.00100033]),\n",
       " array([-4. , -3.8, -3.6, -3.4, -3.2, -3. , -2.8, -2.6, -2.4, -2.2, -2. ,\n",
       "        -1.8, -1.6, -1.4, -1.2, -1. , -0.8, -0.6, -0.4, -0.2,  0. ,  0.2,\n",
       "         0.4,  0.6,  0.8,  1. ,  1.2,  1.4,  1.6,  1.8,  2. ,  2.2,  2.4,\n",
       "         2.6,  2.8,  3. ,  3.2,  3.4,  3.6,  3.8,  4. ]),\n",
       " <BarContainer object of 40 artists>)"
      ]
     },
     "execution_count": 10,
     "metadata": {},
     "output_type": "execute_result"
    },
    {
     "data": {
      "image/png": "[encoded data removed]",
      "text/plain": [
       "<Figure size 640x480 with 1 Axes>"
      ]
     },
     "metadata": {},
     "output_type": "display_data"
    }
   ],
   "source": [
    "plt.title('Polynomial Regression OSNIR Mismatch')\n",
    "plt.xlabel('Mismatch (dB)')\n",
    "plt.ylabel('Percentage (%)')\n",
    "plt.ylim(0, 0.3)\n",
    "plt.gca().yaxis.set_major_formatter(PercentFormatter(1))\n",
    "plt.hist(Mism,\n",
    "         range=(-4,4),\n",
    "         rwidth=0.9,\n",
    "         bins=40,\n",
    "         weights=np.ones(len(Mism))/len(Mism)\n",
    "         )"
   ]
  }
 ],
 "metadata": {
  "kernelspec": {
   "display_name": ".venv",
   "language": "python",
   "name": "python3"
  },
  "language_info": {
   "codemirror_mode": {
    "name": "ipython",
    "version": 3
   },
   "file_extension": ".py",
   "mimetype": "text/x-python",
   "name": "python",
   "nbconvert_exporter": "python",
   "pygments_lexer": "ipython3",
   "version": "3.11.2"
  },
  "orig_nbformat": 4,
  "vscode": {
   "interpreter": {
    "hash": "cd7dbc09f62c6934dc245b76251cec5fd949cd1cb8bcb775af9208cac5a10da4"
   }
  }
 },
 "nbformat": 4,
 "nbformat_minor": 2
}
