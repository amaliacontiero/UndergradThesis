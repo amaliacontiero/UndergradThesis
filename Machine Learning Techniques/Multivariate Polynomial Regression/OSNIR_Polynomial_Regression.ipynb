{
 "cells": [
  {
   "attachments": {},
   "cell_type": "markdown",
   "metadata": {},
   "source": [
    "# Multivariate Polynomial Regression"
   ]
  },
  {
   "cell_type": "code",
   "execution_count": 31,
   "metadata": {},
   "outputs": [],
   "source": [
    "import numpy as np\n",
    "import pandas as pd\n",
    "import tensorflow as tf\n",
    "from tensorflow import keras\n",
    "from matplotlib import pyplot as plt\n",
    "from matplotlib.ticker import PercentFormatter\n",
    "from sklearn.tree import DecisionTreeRegressor"
   ]
  },
  {
   "attachments": {},
   "cell_type": "markdown",
   "metadata": {},
   "source": [
    "Import OSNIR Dataset and shuffle data"
   ]
  },
  {
   "cell_type": "code",
   "execution_count": 32,
   "metadata": {},
   "outputs": [],
   "source": [
    "# import OSNIR dataset\n",
    "df = pd.read_csv('../Data/OSNIR_values_extendedv3_new datasetbcsv.csv')\n",
    "# shuffling rows of OSNIR dataframe and reset indexes\n",
    "df = df.sample(frac=1)\n",
    "df.reset_index(inplace=True, drop=True)"
   ]
  },
  {
   "attachments": {},
   "cell_type": "markdown",
   "metadata": {},
   "source": [
    "Divide data into\\\n",
    "1800 values for training (0,1800-1)\\\n",
    "600 values for validation (1800,2400-1)\\\n",
    "600 values for testing (2400,3000-1)\\"
   ]
  },
  {
   "cell_type": "code",
   "execution_count": 33,
   "metadata": {},
   "outputs": [],
   "source": [
    "data = np.array(df)\n",
    "# input x aka Ns, Pch, L, B, GB, Nch values\n",
    "x_train = data[0:1800-1, 1:7]\n",
    "x_valid = data[1800:2400-1, 1:7]\n",
    "x_test = data[2400:3000-1, 1:7]\n",
    "\n",
    "# output y aka OSNIR values\n",
    "y_train = data[0:1800-1, 0]\n",
    "y_valid = data[1800:2400-1, 0]\n",
    "y_test = data[2400:3000-1, 0]"
   ]
  },
  {
   "attachments": {},
   "cell_type": "markdown",
   "metadata": {},
   "source": [
    "#### Create the Decision Tree Model"
   ]
  },
  {
   "cell_type": "code",
   "execution_count": 34,
   "metadata": {},
   "outputs": [],
   "source": [
    "#MPR model\n",
    "model_PF = PolynomialFeatures(degree=2)\n",
    "x_train_PF = model_PF.fit_transform(x_train)\n",
    "\n",
    "#Fit Linear Model with Polynomial Features\n",
    "model = LinearRegression().fit(x_train_PF,y_train)\n"
   ]
  },
  {
   "cell_type": "code",
   "execution_count": 35,
   "metadata": {},
   "outputs": [],
   "source": [
    "OSNIR_num = data[:3000-1,0]\n",
    "Input_num = model_PF.fit_transform(data[:3000-1,1:7])\n"
   ]
  },
  {
   "cell_type": "code",
   "execution_count": 36,
   "metadata": {},
   "outputs": [],
   "source": [
    "OSNIR_est = (model.predict(Input_num))"
   ]
  },
  {
   "cell_type": "code",
   "execution_count": 37,
   "metadata": {},
   "outputs": [
    {
     "name": "stdout",
     "output_type": "stream",
     "text": [
      "[1.0, 10.0, -8.0, 10.0, 25.0, 0.0, 9.0, 100.0, -80.0, 100.0, 250.0, 0.0, 90.0, 64.0, -80.0, -200.0, -0.0, -72.0, 100.0, 250.0, 0.0, 90.0, 625.0, 0.0, 225.0, 0.0, 0.0, 81.0] => 29.156186 (expected 28.237409)\n",
      "[1.0, 40.0, -8.0, 100.0, 25.0, 0.0, 9.0, 1600.0, -320.0, 4000.0, 1000.0, 0.0, 360.0, 64.0, -800.0, -200.0, -0.0, -72.0, 10000.0, 2500.0, 0.0, 900.0, 625.0, 0.0, 225.0, 0.0, 0.0, 81.0] => 5.873785 (expected 4.992929)\n",
      "[1.0, 10.0, -1.0, 10.0, 12.5, 0.0, 9.0, 100.0, -10.0, 100.0, 125.0, 0.0, 90.0, 1.0, -10.0, -12.5, -0.0, -9.0, 100.0, 125.0, 0.0, 90.0, 156.25, 0.0, 112.5, 0.0, 0.0, 81.0] => 23.241240 (expected 21.019401)\n",
      "[1.0, 9.0, 0.0, 100.0, 12.5, 0.0, 9.0, 81.0, 0.0, 900.0, 112.5, 0.0, 81.0, 0.0, 0.0, 0.0, 0.0, 0.0, 10000.0, 1250.0, 0.0, 900.0, 156.25, 0.0, 112.5, 0.0, 0.0, 81.0] => 16.217468 (expected 14.825849)\n",
      "[1.0, 35.0, 0.0, 100.0, 25.0, 0.0, 9.0, 1225.0, 0.0, 3500.0, 875.0, 0.0, 315.0, 0.0, 0.0, 0.0, 0.0, 0.0, 10000.0, 2500.0, 0.0, 900.0, 625.0, 0.0, 225.0, 0.0, 0.0, 81.0] => 9.291524 (expected 10.310952)\n",
      "[1.0, 14.0, 0.0, 100.0, 12.5, 0.0, 9.0, 196.0, 0.0, 1400.0, 175.0, 0.0, 126.0, 0.0, 0.0, 0.0, 0.0, 0.0, 10000.0, 1250.0, 0.0, 900.0, 156.25, 0.0, 112.5, 0.0, 0.0, 81.0] => 13.786097 (expected 12.621104)\n",
      "[1.0, 22.0, -7.0, 50.0, 25.0, 0.0, 3.0, 484.0, -154.0, 1100.0, 550.0, 0.0, 66.0, 49.0, -350.0, -175.0, -0.0, -21.0, 2500.0, 1250.0, 0.0, 150.0, 625.0, 0.0, 75.0, 0.0, 0.0, 9.0] => 18.269775 (expected 18.376711)\n",
      "[1.0, 3.0, -3.0, 50.0, 25.0, 0.0, 3.0, 9.0, -9.0, 150.0, 75.0, 0.0, 9.0, 9.0, -150.0, -75.0, -0.0, -9.0, 2500.0, 1250.0, 0.0, 150.0, 625.0, 0.0, 75.0, 0.0, 0.0, 9.0] => 27.632194 (expected 28.848078)\n",
      "[1.0, 39.0, 3.0, 50.0, 25.0, 25.0, 9.0, 1521.0, 117.0, 1950.0, 975.0, 975.0, 351.0, 9.0, 150.0, 75.0, 75.0, 27.0, 2500.0, 1250.0, 1250.0, 450.0, 625.0, 625.0, 225.0, 625.0, 225.0, 81.0] => 9.249149 (expected 8.698910)\n",
      "[1.0, 33.0, 3.0, 100.0, 50.0, 0.0, 9.0, 1089.0, 99.0, 3300.0, 1650.0, 0.0, 297.0, 9.0, 300.0, 150.0, 0.0, 27.0, 10000.0, 5000.0, 0.0, 900.0, 2500.0, 0.0, 450.0, 0.0, 0.0, 81.0] => 8.442975 (expected 9.936834)\n"
     ]
    }
   ],
   "source": [
    "for i in range(10):\n",
    "    print('%s => %f (expected %f)' % (Input_num[i].tolist(), OSNIR_est[i], OSNIR_num[i] ))"
   ]
  },
  {
   "cell_type": "code",
   "execution_count": 38,
   "metadata": {},
   "outputs": [],
   "source": [
    "Mism = np.zeros(3000-1)\n",
    "for i in range(3000-1):\n",
    "    Mism[i] = OSNIR_num[i] - OSNIR_est[i]"
   ]
  },
  {
   "cell_type": "code",
   "execution_count": 39,
   "metadata": {},
   "outputs": [],
   "source": [
    "pred_df = pd.DataFrame({\"Actual OSNIR (dB)\" : OSNIR_num.tolist(), \"Predicted OSNIR (dB)\" : OSNIR_est.tolist(), \"Difference (dB)\" : Mism.tolist()})\n",
    "pred_df.to_csv(\"OSNIR_Prediction_LR.csv\",index=False)"
   ]
  },
  {
   "cell_type": "code",
   "execution_count": 40,
   "metadata": {},
   "outputs": [
    {
     "data": {
      "text/plain": [
       "(array([0.        , 0.        , 0.        , 0.        , 0.        ,\n",
       "        0.        , 0.        , 0.        , 0.        , 0.        ,\n",
       "        0.        , 0.        , 0.00033344, 0.00800267, 0.05435145,\n",
       "        0.1357119 , 0.22407469, 0.22174058, 0.18572858, 0.10770257,\n",
       "        0.02800934, 0.01233745, 0.00666889, 0.00366789, 0.003001  ,\n",
       "        0.00266756, 0.00266756, 0.00166722, 0.00100033, 0.        ,\n",
       "        0.        , 0.        , 0.00066689, 0.        , 0.        ]),\n",
       " array([-10.        ,  -9.42857143,  -8.85714286,  -8.28571429,\n",
       "         -7.71428571,  -7.14285714,  -6.57142857,  -6.        ,\n",
       "         -5.42857143,  -4.85714286,  -4.28571429,  -3.71428571,\n",
       "         -3.14285714,  -2.57142857,  -2.        ,  -1.42857143,\n",
       "         -0.85714286,  -0.28571429,   0.28571429,   0.85714286,\n",
       "          1.42857143,   2.        ,   2.57142857,   3.14285714,\n",
       "          3.71428571,   4.28571429,   4.85714286,   5.42857143,\n",
       "          6.        ,   6.57142857,   7.14285714,   7.71428571,\n",
       "          8.28571429,   8.85714286,   9.42857143,  10.        ]),\n",
       " <BarContainer object of 35 artists>)"
      ]
     },
     "execution_count": 40,
     "metadata": {},
     "output_type": "execute_result"
    },
    {
     "data": {
      "image/png": "[encoded data removed]",
      "text/plain": [
       "<Figure size 640x480 with 1 Axes>"
      ]
     },
     "metadata": {},
     "output_type": "display_data"
    }
   ],
   "source": [
    "plt.title('Decision Tree OSNIR Mismatch')\n",
    "plt.xlabel('Mismatch (dB)')\n",
    "plt.ylabel('Percentage (%)')\n",
    "plt.gca().yaxis.set_major_formatter(PercentFormatter(1))\n",
    "plt.hist(Mism, range=(-10,10), rwidth=0.9, bins=35, weights=np.ones(len(Mism))/len(Mism))"
   ]
  }
 ],
 "metadata": {
  "kernelspec": {
   "display_name": ".venv",
   "language": "python",
   "name": "python3"
  },
  "language_info": {
   "codemirror_mode": {
    "name": "ipython",
    "version": 3
   },
   "file_extension": ".py",
   "mimetype": "text/x-python",
   "name": "python",
   "nbconvert_exporter": "python",
   "pygments_lexer": "ipython3",
   "version": "3.11.2"
  },
  "orig_nbformat": 4,
  "vscode": {
   "interpreter": {
    "hash": "cd7dbc09f62c6934dc245b76251cec5fd949cd1cb8bcb775af9208cac5a10da4"
   }
  }
 },
 "nbformat": 4,
 "nbformat_minor": 2
}
