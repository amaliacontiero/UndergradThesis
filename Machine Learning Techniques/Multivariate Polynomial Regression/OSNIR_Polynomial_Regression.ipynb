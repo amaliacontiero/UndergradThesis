{
 "cells": [
  {
   "attachments": {},
   "cell_type": "markdown",
   "metadata": {},
   "source": [
    "# Multivariate Polynomial Regression"
   ]
  },
  {
   "cell_type": "code",
   "execution_count": 3,
   "metadata": {},
   "outputs": [],
   "source": [
    "import numpy as np\n",
    "import pandas as pd\n",
    "import tensorflow as tf\n",
    "from tensorflow import keras\n",
    "from matplotlib import pyplot as plt\n",
    "from matplotlib.ticker import PercentFormatter\n",
    "from sklearn.linear_model import LinearRegression\n",
    "from sklearn.preprocessing import PolynomialFeatures"
   ]
  },
  {
   "attachments": {},
   "cell_type": "markdown",
   "metadata": {},
   "source": [
    "Import OSNIR Dataset and shuffle data"
   ]
  },
  {
   "cell_type": "code",
   "execution_count": 4,
   "metadata": {},
   "outputs": [],
   "source": [
    "# import OSNIR dataset\n",
    "df = pd.read_csv('../Data/OSNIR_values_extendedv3_new datasetbcsv.csv')\n",
    "# shuffling rows of OSNIR dataframe and reset indexes\n",
    "df = df.sample(frac=1)\n",
    "df.reset_index(inplace=True, drop=True)"
   ]
  },
  {
   "attachments": {},
   "cell_type": "markdown",
   "metadata": {},
   "source": [
    "Divide data into\\\n",
    "1800 values for training (0,1800-1)\\\n",
    "600 values for validation (1800,2400-1)\\\n",
    "600 values for testing (2400,3000-1)\\"
   ]
  },
  {
   "cell_type": "code",
   "execution_count": 5,
   "metadata": {},
   "outputs": [],
   "source": [
    "data = np.array(df)\n",
    "# input x aka Ns, Pch, L, B, GB, Nch values\n",
    "x_train = data[0:1800-1, 1:7]\n",
    "x_valid = data[1800:2400-1, 1:7]\n",
    "x_test = data[2400:3000-1, 1:7]\n",
    "\n",
    "# output y aka OSNIR values\n",
    "y_train = data[0:1800-1, 0]\n",
    "y_valid = data[1800:2400-1, 0]\n",
    "y_test = data[2400:3000-1, 0]"
   ]
  },
  {
   "attachments": {},
   "cell_type": "markdown",
   "metadata": {},
   "source": [
    "#### Create the Multivariate Polynomial Regression Model"
   ]
  },
  {
   "cell_type": "code",
   "execution_count": 10,
   "metadata": {},
   "outputs": [],
   "source": [
    "#MPR model\n",
    "model_PF = PolynomialFeatures(degree=2)\n",
    "x_train_PF = model_PF.fit_transform(x_train)\n",
    "\n",
    "#Fit Linear Model with Polynomial Features\n",
    "model = LinearRegression().fit(x_train_PF,y_train)\n"
   ]
  },
  {
   "cell_type": "code",
   "execution_count": 13,
   "metadata": {},
   "outputs": [],
   "source": [
    "OSNIR_num = data[:3000-1,0]\n",
    "Input_num = model_PF.fit_transform(data[:3000-1,1:7])\n"
   ]
  },
  {
   "cell_type": "code",
   "execution_count": 14,
   "metadata": {},
   "outputs": [],
   "source": [
    "OSNIR_est = (model.predict(Input_num))"
   ]
  },
  {
   "cell_type": "code",
   "execution_count": 15,
   "metadata": {},
   "outputs": [
    {
     "name": "stdout",
     "output_type": "stream",
     "text": [
      "[1.0, 18.0, 0.0, 100.0, 25.0, 0.0, 3.0, 324.0, 0.0, 1800.0, 450.0, 0.0, 54.0, 0.0, 0.0, 0.0, 0.0, 0.0, 10000.0, 2500.0, 0.0, 300.0, 625.0, 0.0, 75.0, 0.0, 0.0, 9.0] => 14.137986 (expected 14.339905)\n",
      "[1.0, 11.0, -5.0, 10.0, 12.5, 0.0, 9.0, 121.0, -55.0, 110.0, 137.5, 0.0, 99.0, 25.0, -50.0, -62.5, -0.0, -45.0, 100.0, 125.0, 0.0, 90.0, 156.25, 0.0, 112.5, 0.0, 0.0, 81.0] => 27.522271 (expected 27.196946)\n",
      "[1.0, 14.0, -2.0, 50.0, 50.0, 0.0, 9.0, 196.0, -28.0, 700.0, 700.0, 0.0, 126.0, 4.0, -100.0, -100.0, -0.0, -18.0, 2500.0, 2500.0, 0.0, 450.0, 2500.0, 0.0, 450.0, 0.0, 0.0, 81.0] => 20.828318 (expected 21.397912)\n",
      "[1.0, 8.0, 0.0, 10.0, 25.0, 0.0, 15.0, 64.0, 0.0, 80.0, 200.0, 0.0, 120.0, 0.0, 0.0, 0.0, 0.0, 0.0, 100.0, 250.0, 0.0, 150.0, 625.0, 0.0, 375.0, 0.0, 0.0, 225.0] => 24.754576 (expected 23.796158)\n",
      "[1.0, 37.0, -6.0, 100.0, 25.0, 0.0, 9.0, 1369.0, -222.0, 3700.0, 925.0, 0.0, 333.0, 36.0, -600.0, -150.0, -0.0, -54.0, 10000.0, 2500.0, 0.0, 900.0, 625.0, 0.0, 225.0, 0.0, 0.0, 81.0] => 8.230584 (expected 7.244145)\n",
      "[1.0, 12.0, -9.0, 10.0, 25.0, 0.0, 9.0, 144.0, -108.0, 120.0, 300.0, 0.0, 108.0, 81.0, -90.0, -225.0, -0.0, -81.0, 100.0, 250.0, 0.0, 90.0, 625.0, 0.0, 225.0, 0.0, 0.0, 81.0] => 27.672251 (expected 26.927053)\n",
      "[1.0, 16.0, -9.0, 10.0, 25.0, 0.0, 9.0, 256.0, -144.0, 160.0, 400.0, 0.0, 144.0, 81.0, -90.0, -225.0, -0.0, -81.0, 100.0, 250.0, 0.0, 90.0, 625.0, 0.0, 225.0, 0.0, 0.0, 81.0] => 26.180673 (expected 25.839615)\n",
      "[1.0, 12.0, -1.0, 100.0, 50.0, 0.0, 9.0, 144.0, -12.0, 1200.0, 600.0, 0.0, 108.0, 1.0, -100.0, -50.0, -0.0, -9.0, 10000.0, 5000.0, 0.0, 900.0, 2500.0, 0.0, 450.0, 0.0, 0.0, 81.0] => 15.019691 (expected 13.835807)\n",
      "[1.0, 50.0, 0.0, 10.0, 25.0, 0.0, 3.0, 2500.0, 0.0, 500.0, 1250.0, 0.0, 150.0, 0.0, 0.0, 0.0, 0.0, 0.0, 100.0, 250.0, 0.0, 30.0, 625.0, 0.0, 75.0, 0.0, 0.0, 9.0] => 18.830729 (expected 17.067891)\n",
      "[1.0, 6.0, -4.0, 100.0, 25.0, 0.0, 9.0, 36.0, -24.0, 600.0, 150.0, 0.0, 54.0, 16.0, -400.0, -100.0, -0.0, -36.0, 10000.0, 2500.0, 0.0, 900.0, 625.0, 0.0, 225.0, 0.0, 0.0, 81.0] => 18.406121 (expected 16.650445)\n"
     ]
    }
   ],
   "source": [
    "for i in range(10):\n",
    "    print('%s => %f (expected %f)' % (Input_num[i].tolist(), OSNIR_est[i], OSNIR_num[i] ))"
   ]
  },
  {
   "cell_type": "code",
   "execution_count": 16,
   "metadata": {},
   "outputs": [],
   "source": [
    "Mism = np.zeros(3000-1)\n",
    "for i in range(3000-1):\n",
    "    Mism[i] = OSNIR_num[i] - OSNIR_est[i]"
   ]
  },
  {
   "cell_type": "code",
   "execution_count": 17,
   "metadata": {},
   "outputs": [],
   "source": [
    "pred_df = pd.DataFrame({\"Actual OSNIR (dB)\" : OSNIR_num.tolist(), \"Predicted OSNIR (dB)\" : OSNIR_est.tolist(), \"Difference (dB)\" : Mism.tolist()})\n",
    "pred_df.to_csv(\"OSNIR_Prediction_LR.csv\",index=False)"
   ]
  },
  {
   "cell_type": "code",
   "execution_count": 18,
   "metadata": {},
   "outputs": [
    {
     "data": {
      "text/plain": [
       "(array([0.        , 0.        , 0.        , 0.        , 0.        ,\n",
       "        0.        , 0.        , 0.        , 0.        , 0.        ,\n",
       "        0.        , 0.        , 0.        , 0.01033678, 0.05401801,\n",
       "        0.13204401, 0.22140714, 0.22574191, 0.18572858, 0.10703568,\n",
       "        0.02834278, 0.01433811, 0.00633545, 0.00366789, 0.00233411,\n",
       "        0.00233411, 0.00266756, 0.003001  , 0.        , 0.        ,\n",
       "        0.        , 0.00066689, 0.        , 0.        , 0.        ]),\n",
       " array([-10.        ,  -9.42857143,  -8.85714286,  -8.28571429,\n",
       "         -7.71428571,  -7.14285714,  -6.57142857,  -6.        ,\n",
       "         -5.42857143,  -4.85714286,  -4.28571429,  -3.71428571,\n",
       "         -3.14285714,  -2.57142857,  -2.        ,  -1.42857143,\n",
       "         -0.85714286,  -0.28571429,   0.28571429,   0.85714286,\n",
       "          1.42857143,   2.        ,   2.57142857,   3.14285714,\n",
       "          3.71428571,   4.28571429,   4.85714286,   5.42857143,\n",
       "          6.        ,   6.57142857,   7.14285714,   7.71428571,\n",
       "          8.28571429,   8.85714286,   9.42857143,  10.        ]),\n",
       " <BarContainer object of 35 artists>)"
      ]
     },
     "execution_count": 18,
     "metadata": {},
     "output_type": "execute_result"
    },
    {
     "data": {
      "image/png": "[encoded data removed]",
      "text/plain": [
       "<Figure size 640x480 with 1 Axes>"
      ]
     },
     "metadata": {},
     "output_type": "display_data"
    }
   ],
   "source": [
    "plt.title('Polynomial Regression OSNIR Mismatch')\n",
    "plt.xlabel('Mismatch (dB)')\n",
    "plt.ylabel('Percentage (%)')\n",
    "plt.gca().yaxis.set_major_formatter(PercentFormatter(1))\n",
    "plt.hist(Mism, range=(-10,10), rwidth=0.9, bins=35, weights=np.ones(len(Mism))/len(Mism))"
   ]
  }
 ],
 "metadata": {
  "kernelspec": {
   "display_name": ".venv",
   "language": "python",
   "name": "python3"
  },
  "language_info": {
   "codemirror_mode": {
    "name": "ipython",
    "version": 3
   },
   "file_extension": ".py",
   "mimetype": "text/x-python",
   "name": "python",
   "nbconvert_exporter": "python",
   "pygments_lexer": "ipython3",
   "version": "3.11.2"
  },
  "orig_nbformat": 4,
  "vscode": {
   "interpreter": {
    "hash": "cd7dbc09f62c6934dc245b76251cec5fd949cd1cb8bcb775af9208cac5a10da4"
   }
  }
 },
 "nbformat": 4,
 "nbformat_minor": 2
}
