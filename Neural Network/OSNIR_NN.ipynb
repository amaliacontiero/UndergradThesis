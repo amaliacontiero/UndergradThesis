{
 "cells": [
  {
   "cell_type": "code",
   "execution_count": 1,
   "metadata": {},
   "outputs": [],
   "source": [
    "import numpy as np\n",
    "import pandas as pd\n",
    "import tensorflow as tf\n",
    "from tensorflow import keras"
   ]
  },
  {
   "cell_type": "code",
   "execution_count": 2,
   "metadata": {},
   "outputs": [],
   "source": [
    "# import OSNIR dataset\n",
    "df = pd.read_csv('../Data/OSNIR_values_extendedv3_new datasetbcsv.csv')\n",
    "# shuffling rows of OSNIR dataframe and reset indexes\n",
    "df = df.sample(frac=1)\n",
    "df.reset_index(inplace=True, drop=True)"
   ]
  },
  {
   "cell_type": "code",
   "execution_count": 3,
   "metadata": {},
   "outputs": [
    {
     "data": {
      "text/html": [
       "<div>\n",
       "<style scoped>\n",
       "    .dataframe tbody tr th:only-of-type {\n",
       "        vertical-align: middle;\n",
       "    }\n",
       "\n",
       "    .dataframe tbody tr th {\n",
       "        vertical-align: top;\n",
       "    }\n",
       "\n",
       "    .dataframe thead th {\n",
       "        text-align: right;\n",
       "    }\n",
       "</style>\n",
       "<table border=\"1\" class=\"dataframe\">\n",
       "  <thead>\n",
       "    <tr style=\"text-align: right;\">\n",
       "      <th></th>\n",
       "      <th>OSNIRnumerical(dB)</th>\n",
       "      <th>Ns</th>\n",
       "      <th>Pch(dBm)</th>\n",
       "      <th>L(km)</th>\n",
       "      <th>B(GHz)</th>\n",
       "      <th>GB(GHz)</th>\n",
       "      <th>Nch</th>\n",
       "    </tr>\n",
       "  </thead>\n",
       "  <tbody>\n",
       "    <tr>\n",
       "      <th>0</th>\n",
       "      <td>7.927238</td>\n",
       "      <td>36</td>\n",
       "      <td>3</td>\n",
       "      <td>100</td>\n",
       "      <td>25.0</td>\n",
       "      <td>12.5</td>\n",
       "      <td>9</td>\n",
       "    </tr>\n",
       "    <tr>\n",
       "      <th>1</th>\n",
       "      <td>19.307620</td>\n",
       "      <td>5</td>\n",
       "      <td>3</td>\n",
       "      <td>100</td>\n",
       "      <td>25.0</td>\n",
       "      <td>25.0</td>\n",
       "      <td>9</td>\n",
       "    </tr>\n",
       "    <tr>\n",
       "      <th>2</th>\n",
       "      <td>15.340119</td>\n",
       "      <td>43</td>\n",
       "      <td>3</td>\n",
       "      <td>10</td>\n",
       "      <td>50.0</td>\n",
       "      <td>0.0</td>\n",
       "      <td>9</td>\n",
       "    </tr>\n",
       "    <tr>\n",
       "      <th>3</th>\n",
       "      <td>15.810240</td>\n",
       "      <td>9</td>\n",
       "      <td>0</td>\n",
       "      <td>100</td>\n",
       "      <td>50.0</td>\n",
       "      <td>0.0</td>\n",
       "      <td>9</td>\n",
       "    </tr>\n",
       "    <tr>\n",
       "      <th>4</th>\n",
       "      <td>7.259275</td>\n",
       "      <td>41</td>\n",
       "      <td>0</td>\n",
       "      <td>100</td>\n",
       "      <td>12.5</td>\n",
       "      <td>0.0</td>\n",
       "      <td>9</td>\n",
       "    </tr>\n",
       "  </tbody>\n",
       "</table>\n",
       "</div>"
      ],
      "text/plain": [
       "   OSNIRnumerical(dB)  Ns  Pch(dBm)  L(km)  B(GHz)  GB(GHz)  Nch\n",
       "0            7.927238  36         3    100    25.0     12.5    9\n",
       "1           19.307620   5         3    100    25.0     25.0    9\n",
       "2           15.340119  43         3     10    50.0      0.0    9\n",
       "3           15.810240   9         0    100    50.0      0.0    9\n",
       "4            7.259275  41         0    100    12.5      0.0    9"
      ]
     },
     "execution_count": 3,
     "metadata": {},
     "output_type": "execute_result"
    }
   ],
   "source": [
    "df.head()"
   ]
  },
  {
   "attachments": {},
   "cell_type": "markdown",
   "metadata": {},
   "source": [
    "1800 values for training (0,1800-1)\\\n",
    "600 values for validation (1800,2400-1)\\\n",
    "600 values for testing (2400,3000-1)"
   ]
  },
  {
   "cell_type": "code",
   "execution_count": 4,
   "metadata": {},
   "outputs": [],
   "source": [
    "data = np.array(df)"
   ]
  },
  {
   "cell_type": "code",
   "execution_count": 5,
   "metadata": {},
   "outputs": [],
   "source": [
    "# input x aka Ns, Pch, L, B, GB, Nch values\n",
    "x_train = data[0:1800-1, 1:6]\n",
    "x_valid = data[1800:2400-1, 1:6]\n",
    "x_test = data[2400:3000-1, 1:6]\n",
    "\n",
    "# output y aka OSNIR values\n",
    "y_train = data[0:1800-1, 0]\n",
    "y_valid = data[1800:2400-1, 0]\n",
    "y_test = data[2400:3000-1, 0]"
   ]
  },
  {
   "attachments": {},
   "cell_type": "markdown",
   "metadata": {},
   "source": [
    "### ---- WIP ----"
   ]
  },
  {
   "cell_type": "code",
   "execution_count": 41,
   "metadata": {},
   "outputs": [],
   "source": [
    "model = keras.Sequential([\n",
    "    keras.layers.Dense(32, input_shape=(5,), activation='relu'),  # first hidden layer\n",
    "    keras.layers.Dense(32, activation='relu'),  # second hidden layer\n",
    "    keras.layers.Dense(1, activation='relu') # output layer (3)\n",
    "])"
   ]
  },
  {
   "cell_type": "code",
   "execution_count": 73,
   "metadata": {},
   "outputs": [],
   "source": [
    "early_stop = keras.callbacks.EarlyStopping(monitor='loss',mode='min',patience=50)"
   ]
  },
  {
   "cell_type": "code",
   "execution_count": 74,
   "metadata": {},
   "outputs": [],
   "source": [
    "# define y true and pred\n",
    "#def osnr_loss(y_true,y_pred):\n",
    "#    squared_difference = tf.square(y_train - y_valid)\n",
    "#    return tf.reduce_mean(squared_difference, axis=-1)"
   ]
  },
  {
   "cell_type": "code",
   "execution_count": 104,
   "metadata": {},
   "outputs": [],
   "source": [
    "model.compile(optimizer='adam',\n",
    "              loss='mse'\n",
    "              #metrics=['accuracy']\n",
    "              )"
   ]
  },
  {
   "cell_type": "code",
   "execution_count": 105,
   "metadata": {},
   "outputs": [
    {
     "name": "stdout",
     "output_type": "stream",
     "text": [
      "Epoch 1/500\n",
      "72/72 [==============================] - 1s 3ms/step - loss: 0.1142 - val_loss: 0.1364\n",
      "Epoch 2/500\n",
      "72/72 [==============================] - 0s 2ms/step - loss: 0.1061 - val_loss: 0.1457\n",
      "Epoch 3/500\n",
      "72/72 [==============================] - 0s 2ms/step - loss: 0.1120 - val_loss: 0.1633\n",
      "Epoch 4/500\n",
      "72/72 [==============================] - 0s 2ms/step - loss: 0.1027 - val_loss: 0.1302\n",
      "Epoch 5/500\n",
      "72/72 [==============================] - 0s 2ms/step - loss: 0.1040 - val_loss: 0.1415\n",
      "Epoch 6/500\n",
      "72/72 [==============================] - 0s 2ms/step - loss: 0.1006 - val_loss: 0.1388\n",
      "Epoch 7/500\n",
      "72/72 [==============================] - 0s 2ms/step - loss: 0.1050 - val_loss: 0.1324\n",
      "Epoch 8/500\n",
      "72/72 [==============================] - 0s 2ms/step - loss: 0.1024 - val_loss: 0.1249\n",
      "Epoch 9/500\n",
      "72/72 [==============================] - 0s 2ms/step - loss: 0.1113 - val_loss: 0.1571\n",
      "Epoch 10/500\n",
      "72/72 [==============================] - 0s 2ms/step - loss: 0.1268 - val_loss: 0.1680\n",
      "Epoch 11/500\n",
      "72/72 [==============================] - 0s 2ms/step - loss: 0.1058 - val_loss: 0.1418\n",
      "Epoch 12/500\n",
      "72/72 [==============================] - 0s 2ms/step - loss: 0.1043 - val_loss: 0.1308\n",
      "Epoch 13/500\n",
      "72/72 [==============================] - 0s 2ms/step - loss: 0.1049 - val_loss: 0.1509\n",
      "Epoch 14/500\n",
      "72/72 [==============================] - 0s 2ms/step - loss: 0.1183 - val_loss: 0.1351\n",
      "Epoch 15/500\n",
      "72/72 [==============================] - 0s 2ms/step - loss: 0.1037 - val_loss: 0.1402\n",
      "Epoch 16/500\n",
      "72/72 [==============================] - 0s 2ms/step - loss: 0.1021 - val_loss: 0.1271\n",
      "Epoch 17/500\n",
      "72/72 [==============================] - 0s 2ms/step - loss: 0.1061 - val_loss: 0.1417\n",
      "Epoch 18/500\n",
      "72/72 [==============================] - 0s 2ms/step - loss: 0.1120 - val_loss: 0.1458\n",
      "Epoch 19/500\n",
      "72/72 [==============================] - 0s 3ms/step - loss: 0.1160 - val_loss: 0.1458\n",
      "Epoch 20/500\n",
      "72/72 [==============================] - 0s 3ms/step - loss: 0.1044 - val_loss: 0.1329\n",
      "Epoch 21/500\n",
      "72/72 [==============================] - 0s 3ms/step - loss: 0.1102 - val_loss: 0.1418\n",
      "Epoch 22/500\n",
      "72/72 [==============================] - 0s 3ms/step - loss: 0.1109 - val_loss: 0.1279\n",
      "Epoch 23/500\n",
      "72/72 [==============================] - 0s 3ms/step - loss: 0.1108 - val_loss: 0.2263\n",
      "Epoch 24/500\n",
      "72/72 [==============================] - 0s 2ms/step - loss: 0.1104 - val_loss: 0.1235\n",
      "Epoch 25/500\n",
      "72/72 [==============================] - 0s 2ms/step - loss: 0.1146 - val_loss: 0.1257\n",
      "Epoch 26/500\n",
      "72/72 [==============================] - 0s 3ms/step - loss: 0.1009 - val_loss: 0.1278\n",
      "Epoch 27/500\n",
      "72/72 [==============================] - 0s 2ms/step - loss: 0.1016 - val_loss: 0.1249\n",
      "Epoch 28/500\n",
      "72/72 [==============================] - 0s 2ms/step - loss: 0.1007 - val_loss: 0.1549\n",
      "Epoch 29/500\n",
      "72/72 [==============================] - 0s 2ms/step - loss: 0.1137 - val_loss: 0.1573\n",
      "Epoch 30/500\n",
      "72/72 [==============================] - 0s 2ms/step - loss: 0.1038 - val_loss: 0.1313\n",
      "Epoch 31/500\n",
      "72/72 [==============================] - 0s 2ms/step - loss: 0.0979 - val_loss: 0.1422\n",
      "Epoch 32/500\n",
      "72/72 [==============================] - 0s 2ms/step - loss: 0.1241 - val_loss: 0.1511\n",
      "Epoch 33/500\n",
      "72/72 [==============================] - 0s 2ms/step - loss: 0.1087 - val_loss: 0.1305\n",
      "Epoch 34/500\n",
      "72/72 [==============================] - 0s 2ms/step - loss: 0.1079 - val_loss: 0.1298\n",
      "Epoch 35/500\n",
      "72/72 [==============================] - 0s 2ms/step - loss: 0.1051 - val_loss: 0.1529\n",
      "Epoch 36/500\n",
      "72/72 [==============================] - 0s 2ms/step - loss: 0.1146 - val_loss: 0.1536\n",
      "Epoch 37/500\n",
      "72/72 [==============================] - 0s 2ms/step - loss: 0.1096 - val_loss: 0.1606\n",
      "Epoch 38/500\n",
      "72/72 [==============================] - 0s 2ms/step - loss: 0.0979 - val_loss: 0.1326\n",
      "Epoch 39/500\n",
      "72/72 [==============================] - 0s 2ms/step - loss: 0.0945 - val_loss: 0.1410\n",
      "Epoch 40/500\n",
      "72/72 [==============================] - 0s 3ms/step - loss: 0.1017 - val_loss: 0.1387\n",
      "Epoch 41/500\n",
      "72/72 [==============================] - 0s 2ms/step - loss: 0.1137 - val_loss: 0.1343\n",
      "Epoch 42/500\n",
      "72/72 [==============================] - 0s 3ms/step - loss: 0.1023 - val_loss: 0.1396\n",
      "Epoch 43/500\n",
      "72/72 [==============================] - 0s 2ms/step - loss: 0.1086 - val_loss: 0.1543\n",
      "Epoch 44/500\n",
      "72/72 [==============================] - 0s 2ms/step - loss: 0.1098 - val_loss: 0.1267\n",
      "Epoch 45/500\n",
      "72/72 [==============================] - 0s 2ms/step - loss: 0.1135 - val_loss: 0.1975\n",
      "Epoch 46/500\n",
      "72/72 [==============================] - 0s 2ms/step - loss: 0.1067 - val_loss: 0.1299\n",
      "Epoch 47/500\n",
      "72/72 [==============================] - 0s 2ms/step - loss: 0.1107 - val_loss: 0.1393\n",
      "Epoch 48/500\n",
      "72/72 [==============================] - 0s 2ms/step - loss: 0.0970 - val_loss: 0.1381\n",
      "Epoch 49/500\n",
      "72/72 [==============================] - 0s 2ms/step - loss: 0.1049 - val_loss: 0.1633\n",
      "Epoch 50/500\n",
      "72/72 [==============================] - 0s 2ms/step - loss: 0.1036 - val_loss: 0.1551\n",
      "Epoch 51/500\n",
      "72/72 [==============================] - 0s 2ms/step - loss: 0.1058 - val_loss: 0.1842\n",
      "Epoch 52/500\n",
      "72/72 [==============================] - 0s 2ms/step - loss: 0.1155 - val_loss: 0.1351\n",
      "Epoch 53/500\n",
      "72/72 [==============================] - 0s 2ms/step - loss: 0.1054 - val_loss: 0.1656\n",
      "Epoch 54/500\n",
      "72/72 [==============================] - 0s 3ms/step - loss: 0.1170 - val_loss: 0.1687\n",
      "Epoch 55/500\n",
      "72/72 [==============================] - 0s 3ms/step - loss: 0.1101 - val_loss: 0.1357\n",
      "Epoch 56/500\n",
      "72/72 [==============================] - 0s 3ms/step - loss: 0.1050 - val_loss: 0.1472\n",
      "Epoch 57/500\n",
      "72/72 [==============================] - 0s 3ms/step - loss: 0.1057 - val_loss: 0.1413\n",
      "Epoch 58/500\n",
      "72/72 [==============================] - 0s 3ms/step - loss: 0.1026 - val_loss: 0.1496\n",
      "Epoch 59/500\n",
      "72/72 [==============================] - 0s 2ms/step - loss: 0.1170 - val_loss: 0.1611\n",
      "Epoch 60/500\n",
      "72/72 [==============================] - 0s 3ms/step - loss: 0.1168 - val_loss: 0.1479\n",
      "Epoch 61/500\n",
      "72/72 [==============================] - 0s 2ms/step - loss: 0.1077 - val_loss: 0.1285\n",
      "Epoch 62/500\n",
      "72/72 [==============================] - 0s 2ms/step - loss: 0.1143 - val_loss: 0.1510\n",
      "Epoch 63/500\n",
      "72/72 [==============================] - 0s 2ms/step - loss: 0.1077 - val_loss: 0.1361\n",
      "Epoch 64/500\n",
      "72/72 [==============================] - 0s 2ms/step - loss: 0.0971 - val_loss: 0.1374\n",
      "Epoch 65/500\n",
      "72/72 [==============================] - 0s 2ms/step - loss: 0.1096 - val_loss: 0.1449\n",
      "Epoch 66/500\n",
      "72/72 [==============================] - 0s 2ms/step - loss: 0.1253 - val_loss: 0.1823\n",
      "Epoch 67/500\n",
      "72/72 [==============================] - 0s 2ms/step - loss: 0.1117 - val_loss: 0.1264\n",
      "Epoch 68/500\n",
      "72/72 [==============================] - 0s 3ms/step - loss: 0.1092 - val_loss: 0.1425\n",
      "Epoch 69/500\n",
      "72/72 [==============================] - 0s 3ms/step - loss: 0.1025 - val_loss: 0.1391\n",
      "Epoch 70/500\n",
      "72/72 [==============================] - 0s 2ms/step - loss: 0.1091 - val_loss: 0.1268\n",
      "Epoch 71/500\n",
      "72/72 [==============================] - 0s 2ms/step - loss: 0.0991 - val_loss: 0.1525\n",
      "Epoch 72/500\n",
      "72/72 [==============================] - 0s 3ms/step - loss: 0.1263 - val_loss: 0.1738\n",
      "Epoch 73/500\n",
      "72/72 [==============================] - 0s 2ms/step - loss: 0.1452 - val_loss: 0.1420\n",
      "Epoch 74/500\n",
      "72/72 [==============================] - 0s 2ms/step - loss: 0.1105 - val_loss: 0.1360\n",
      "Epoch 75/500\n",
      "72/72 [==============================] - 0s 2ms/step - loss: 0.1066 - val_loss: 0.1292\n",
      "Epoch 76/500\n",
      "72/72 [==============================] - 0s 2ms/step - loss: 0.0971 - val_loss: 0.1403\n",
      "Epoch 77/500\n",
      "72/72 [==============================] - 0s 2ms/step - loss: 0.1033 - val_loss: 0.1274\n",
      "Epoch 78/500\n",
      "72/72 [==============================] - 0s 2ms/step - loss: 0.1004 - val_loss: 0.1519\n",
      "Epoch 79/500\n",
      "72/72 [==============================] - 0s 2ms/step - loss: 0.1066 - val_loss: 0.1552\n",
      "Epoch 80/500\n",
      "72/72 [==============================] - 0s 2ms/step - loss: 0.1079 - val_loss: 0.1583\n",
      "Epoch 81/500\n",
      "72/72 [==============================] - 0s 2ms/step - loss: 0.1005 - val_loss: 0.1293\n",
      "Epoch 82/500\n",
      "72/72 [==============================] - 0s 2ms/step - loss: 0.1015 - val_loss: 0.1187\n",
      "Epoch 83/500\n",
      "72/72 [==============================] - 0s 3ms/step - loss: 0.1048 - val_loss: 0.1317\n",
      "Epoch 84/500\n",
      "72/72 [==============================] - 0s 2ms/step - loss: 0.1017 - val_loss: 0.1406\n",
      "Epoch 85/500\n",
      "72/72 [==============================] - 0s 3ms/step - loss: 0.1133 - val_loss: 0.1362\n",
      "Epoch 86/500\n",
      "72/72 [==============================] - 0s 2ms/step - loss: 0.1065 - val_loss: 0.1333\n",
      "Epoch 87/500\n",
      "72/72 [==============================] - 0s 3ms/step - loss: 0.1169 - val_loss: 0.1228\n",
      "Epoch 88/500\n",
      "72/72 [==============================] - 0s 2ms/step - loss: 0.1039 - val_loss: 0.1697\n",
      "Epoch 89/500\n",
      "72/72 [==============================] - 0s 3ms/step - loss: 0.1136 - val_loss: 0.1280\n"
     ]
    },
    {
     "data": {
      "text/plain": [
       "<keras.callbacks.History at 0x26020d38dd0>"
      ]
     },
     "execution_count": 105,
     "metadata": {},
     "output_type": "execute_result"
    }
   ],
   "source": [
    "model.fit(x_train, y_train,\n",
    "          validation_data=(x_valid,y_valid), \n",
    "          epochs=500, \n",
    "          batch_size=25,\n",
    "          callbacks=[early_stop])"
   ]
  },
  {
   "cell_type": "code",
   "execution_count": 108,
   "metadata": {},
   "outputs": [
    {
     "name": "stdout",
     "output_type": "stream",
     "text": [
      "19/19 [==============================] - 0s 889us/step\n"
     ]
    }
   ],
   "source": [
    "predictions = (model.predict(x_test)) "
   ]
  },
  {
   "cell_type": "code",
   "execution_count": 110,
   "metadata": {},
   "outputs": [
    {
     "name": "stdout",
     "output_type": "stream",
     "text": [
      "[9.0, -2.0, 100.0, 25.0, 0.0] => 16 (expected 16)\n",
      "[11.0, -10.0, 10.0, 25.0, 0.0] => 26 (expected 26)\n",
      "[2.0, 0.0, 50.0, 25.0, 0.0] => 27 (expected 29)\n",
      "[5.0, -4.0, 50.0, 25.0, 0.0] => 26 (expected 26)\n",
      "[35.0, 0.0, 50.0, 25.0, 0.0] => 13 (expected 14)\n"
     ]
    }
   ],
   "source": [
    "for i in range(5):\n",
    "    print('%s => %d (expected %d)' % (x_test[i].tolist(), predictions[i], y_test[i] ))"
   ]
  }
 ],
 "metadata": {
  "kernelspec": {
   "display_name": ".venv",
   "language": "python",
   "name": "python3"
  },
  "language_info": {
   "codemirror_mode": {
    "name": "ipython",
    "version": 3
   },
   "file_extension": ".py",
   "mimetype": "text/x-python",
   "name": "python",
   "nbconvert_exporter": "python",
   "pygments_lexer": "ipython3",
   "version": "3.11.2"
  },
  "orig_nbformat": 4,
  "vscode": {
   "interpreter": {
    "hash": "cd7dbc09f62c6934dc245b76251cec5fd949cd1cb8bcb775af9208cac5a10da4"
   }
  }
 },
 "nbformat": 4,
 "nbformat_minor": 2
}
